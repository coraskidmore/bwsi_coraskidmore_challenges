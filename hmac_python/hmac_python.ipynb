{
 "cells": [
  {
   "cell_type": "markdown",
   "metadata": {},
   "source": [
    "# Hmac python\n",
    "\n"
   ]
  },
  {
   "cell_type": "markdown",
   "metadata": {},
   "source": [
    "### Challenge Name: hmac_generate (/embsec/hmac_python/hmac_generate)\n",
    "\n",
    "\n",
    "    The serial device will send you a variable-length frame of data. The data\n",
    "    frame will begin with a short, little-endian integer size of the data to \n",
    "    follow. You must generate an HMAC-SHA256 signature using the key in \n",
    "    'hmackeyfile0.bin'.\n",
    "    \n",
    "    The data frame you will receive from the device will be formatted as follows:\n",
    "    \n",
    "    [ 0x2   ] [   variable...   ]\n",
    "    ------------------------------\n",
    "    | Size   |     Data          |\n",
    "    ------------------------------\n",
    "    \n",
    "    You must send a 32-byte HMAC-SHA256 signature to the serial device.\n",
    "    \n",
    "    [     0x20     ]\n",
    "    ----------------\n",
    "    |  HMAC(Data)  |\n",
    "    ----------------\n",
    "    \n",
    "    1. Read the HMAC key from 'hmackeyfile0.bin'\n",
    "    2. Read the size of the data from the serial device\n",
    "    3. Read the data from the serial device\n",
    "    4. Generate and send a HMAC-SHA256 over the data\n",
    "    5. Read the response\n",
    "    \n",
    "\n"
   ]
  },
  {
   "cell_type": "code",
   "execution_count": 2,
   "metadata": {},
   "outputs": [
    {
     "data": {
      "text/plain": [
       "b'embsec{hmac_generate_6a65fc57c238a1d9}\\n'"
      ]
     },
     "execution_count": 2,
     "metadata": {},
     "output_type": "execute_result"
    }
   ],
   "source": [
    "from embsec import Serial\n",
    "import struct\n",
    "from Crypto.Hash import HMAC, SHA256\n",
    "\n",
    "def hmac_generate():\n",
    "    ser = Serial(\"/embsec/hmac_python/hmac_generate\")\n",
    "    # Your code goes here!\n",
    "    with open ('hmackeyfile0.bin', 'rb') as hmac:\n",
    "        hmackey = hmac.read()\n",
    "    data_size = struct.unpack(\"<h\", ser.read(2))[0]\n",
    "    data = ser.read(data_size)\n",
    "    h = HMAC.new(hmackey, digestmod=SHA256)\n",
    "    h.update(data)\n",
    "    ser.write(h.digest())\n",
    "    return ser.read_until()\n",
    "hmac_generate()\n"
   ]
  },
  {
   "cell_type": "markdown",
   "metadata": {},
   "source": [
    "### Challenge Name: hmac_verify (/embsec/hmac_python/hmac_verify)\n",
    "\n",
    "\n",
    "    The serial device will send you a series of messages in the format\n",
    "    described below. For each message you must check the attached signature \n",
    "    If verification fails, you must respond with a zero-byte '\\x00'. If \n",
    "    verification passes, you must respond with a one-byte '\\x01'. When the\n",
    "    length of the message you are about to receive is zero , read a newline-\n",
    "    terminated flag.\n",
    "\n",
    "    The serial device will send signed messages in the following format:\n",
    "\n",
    "    ----------------------------------------\n",
    "    [ 0x2 ] [  Size bytes    ] [   0x20   ]\n",
    "    ----------------------------------------\n",
    "    | Size |     Data         | HMAC(Data) |\n",
    "    ----------------------------------------\n",
    "\n"
   ]
  },
  {
   "cell_type": "code",
   "execution_count": 5,
   "metadata": {},
   "outputs": [
    {
     "name": "stdout",
     "output_type": "stream",
     "text": [
      "hi\n",
      "good\n",
      "hi\n",
      "bad\n",
      "hi\n",
      "good\n",
      "hi\n",
      "good\n",
      "hi\n",
      "bad\n",
      "hi\n",
      "good\n",
      "hi\n",
      "good\n",
      "hi\n",
      "good\n",
      "hi\n",
      "break\n",
      "<Crypto.Hash.HMAC.HMAC object at 0x7f1e4c06d1d0>\n",
      "bytearray(b'ib\\xd5-\\x9c\\x92\\x02C\\xb9\\xb1\\x8a\\x11\\x86\\xa8)\\x99\\xe3T\\xe6:\\x1d1\\x93\\xaf\\x87n\\xd1\\x0f\\x1e\\xd0E2')\n"
     ]
    },
    {
     "data": {
      "text/plain": [
       "b'embsec{hmac_verify_fdf7a870fd0862fc}\\n'"
      ]
     },
     "execution_count": 5,
     "metadata": {},
     "output_type": "execute_result"
    }
   ],
   "source": [
    "from embsec import Serial\n",
    "import struct\n",
    "from Crypto.Hash import HMAC, SHA256\n",
    "\n",
    "def hmac_verify():\n",
    "    ser = Serial(\"/embsec/hmac_python/hmac_verify\")\n",
    "    # Your code goes here!\n",
    "    with open ('hmackeyfile1.bin', 'rb') as hmac:\n",
    "        hmackey = hmac.read()\n",
    "    while True:\n",
    "        data_size = struct.unpack(\"<h\", ser.read(2))[0]\n",
    "        print('hi')\n",
    "        if data_size == 0:\n",
    "            print('break')\n",
    "            break\n",
    "        data = ser.read(data_size)\n",
    "        hmac = ser.read(32)\n",
    "        h = HMAC.new(hmackey, data, digestmod=SHA256)\n",
    "        #this function does everything together\n",
    "        #h.update(data) - hashes data (dont unclude data^)\n",
    "        #you can do this multiple times with different blocks of data\n",
    "        #.digest is the actual creation of the hmac\n",
    "        if h.digest() == hmac:\n",
    "            ser.write(struct.pack('1s', b'\\x01'))\n",
    "            print('good')\n",
    "        else:\n",
    "            ser.write(struct.pack('1s', b'\\x00'))\n",
    "            print('bad')\n",
    "        \n",
    "    print(h)\n",
    "    print(hmac)\n",
    "    return ser.read_until()\n",
    "\n",
    "hmac_verify()\n"
   ]
  },
  {
   "cell_type": "code",
   "execution_count": null,
   "metadata": {},
   "outputs": [],
   "source": []
  },
  {
   "cell_type": "code",
   "execution_count": null,
   "metadata": {},
   "outputs": [],
   "source": []
  }
 ],
 "metadata": {
  "kernelspec": {
   "display_name": "Python 3",
   "language": "python",
   "name": "python3"
  },
  "language_info": {
   "codemirror_mode": {
    "name": "ipython",
    "version": 3
   },
   "file_extension": ".py",
   "mimetype": "text/x-python",
   "name": "python",
   "nbconvert_exporter": "python",
   "pygments_lexer": "ipython3",
   "version": "3.7.6"
  }
 },
 "nbformat": 4,
 "nbformat_minor": 4
}
