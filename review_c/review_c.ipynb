{
 "cells": [
  {
   "cell_type": "markdown",
   "metadata": {},
   "source": [
    "# Review c\n",
    "\n",
    "In this lesson you will review some of the topics of the C language you\n",
    "learned in the Hardware Module earlier this year. By understanding these \n",
    "topics, you will be prepared to complete your design implementations, and\n",
    "become solid C programmers! If you get stuck during these challenges,\n",
    "checkout the C language documentation and the Hardware Module, as well as\n",
    "review the C lecture.\n",
    "\n",
    "For the first challenges, you should work with a partner. This will get you used\n",
    "to pair programming remotely, which will be necessary during the hardware challenge.\n",
    "You and a partner will be modifying the *int_to_bin.c* and *anagram.c* files to\n",
    "complete challenges 1 and 2.\n",
    "\n",
    "Challenges 3 and 4 are to be completed individually, they serve as practice for reading\n",
    "and understanding C code. You will just be adding comments to the Jupyter Notebook.\n",
    "Remember to push your notebook at the end of the day so we can read your answers!\n",
    "\n",
    "Good luck!"
   ]
  },
  {
   "cell_type": "markdown",
   "metadata": {},
   "source": [
    "### Challenge Name: int_to_bin (/embsec/review_c/int_to_bin)\n",
    "\n",
    "\n",
    "You are building a device that can convert an input from a number pad\n",
    "[0-9] and convert it into a binary string of ASCII ones and zeros. You\n",
    "and your partners task is to construct a function that consumes an uint8_t\n",
    "and writes the binary representation to a buffer. The output should include\n",
    "any leading zeros. Here are a few examples:\n",
    "\n",
    "    0    ->   \"00000000\"\n",
    "\n",
    "    5    ->   \"00000101\"\n",
    "\n",
    "    14   ->   \"00001110\"\n",
    "\n",
    "    255  ->   \"01111111\"\n",
    "\n",
    "Helpful resources:\n",
    "\n",
    "<https://en.wikipedia.org/wiki/C_data_types#Fixed-width_integer_types>\n",
    "\n",
    "<http://www.asciitable.com/>\n",
    "\n",
    "\n"
   ]
  },
  {
   "cell_type": "code",
   "execution_count": 3,
   "metadata": {},
   "outputs": [
    {
     "name": "stdout",
     "output_type": "stream",
     "text": [
      "e   01100101\n",
      "m   01101101\n",
      "b   01100010\n",
      "s   01110011\n",
      "e   01100101\n",
      "c   01100011\n",
      "{   01111011\n",
      "i   01101001\n",
      "n   01101110\n",
      "t   01110100\n",
      "_   01011111\n",
      "t   01110100\n",
      "o   01101111\n",
      "_   01011111\n",
      "b   01100010\n",
      "i   01101001\n",
      "n   01101110\n",
      "_   01011111\n",
      "0   00110000\n",
      "a   01100001\n",
      "3   00110011\n",
      "d   01100100\n",
      "0   00110000\n",
      "4   00110100\n",
      "3   00110011\n",
      "2   00110010\n",
      "a   01100001\n",
      "9   00111001\n",
      "3   00110011\n",
      "7   00110111\n",
      "c   01100011\n",
      "1   00110001\n",
      "8   00111000\n",
      "a   01100001\n",
      "}   01111101\n",
      "\n",
      "   00001010\n"
     ]
    },
    {
     "data": {
      "text/plain": [
       "b'embsec{int_to_bin_0a3d0432a937c18a}\\n'"
      ]
     },
     "execution_count": 3,
     "metadata": {},
     "output_type": "execute_result"
    }
   ],
   "source": [
    "import embsec\n",
    "import subprocess\n",
    "from core.util import extract_flag\n",
    "\n",
    "def int_to_bin():\n",
    "    subprocess.check_output([f'gcc -I../../lib/uart int_to_bin.c ../../lib/uart/uart_linux.c -o int_to_bin'], shell=True)\n",
    "    stdout, stdin = embsec.grade_c(f'./int_to_bin', f'/embsec/review_c/int_to_bin')\n",
    "    \n",
    "    return (extract_flag(stdout))\n",
    "    \n",
    "int_to_bin()\n",
    "\n"
   ]
  },
  {
   "cell_type": "markdown",
   "metadata": {},
   "source": [
    "### Challenge Name: anagram (/embsec/review_c/anagram)\n",
    "\n",
    "\n",
    "In this challenge, you are building a device that can solve various puzzles.\n",
    "For this specific task, you will be completing a functionality that checks if two\n",
    "words are anagrams. You and a partner must create a function that allows for this\n",
    "feature. The function will consume two C strings and return 1 if the strings are\n",
    "anagrams of eachother. Otherwise, it should return 0. \n",
    "\n",
    "A word is considered an anagram if the letters can be scrambled into another word\n",
    "with no letters left over. \n",
    "\n",
    "    isAnagram(\"hamlet\", \"amleth\") -> 1\n",
    "    \n",
    "    isAnagram(\"oh lame saint\", \"the mona lisa\") -> 1\n",
    "\n",
    "    isAnagram(\"dormitory\", \"dirty room\") -> 1\n",
    "\n",
    "    isAnagram(\"panama\", \"panam\") -> 0\n",
    "\n",
    "    isAnagram(\"embedded\", \"security\") -> 0\n",
    "\n",
    "You can assume that the inputs will only contain characters [a-z] and \" \", \n",
    "but only \" \" can be repeated or removed without violating the anagram rule.\n"
   ]
  },
  {
   "cell_type": "code",
   "execution_count": 6,
   "metadata": {},
   "outputs": [
    {
     "ename": "CalledProcessError",
     "evalue": "Command '['gcc -I../../lib/uart anagram.c ../../lib/uart/uart_linux.c -o anagram']' returned non-zero exit status 1.",
     "output_type": "error",
     "traceback": [
      "\u001b[0;31m---------------------------------------------------------------------------\u001b[0m",
      "\u001b[0;31mCalledProcessError\u001b[0m                        Traceback (most recent call last)",
      "\u001b[0;32m<ipython-input-6-4bc35bc34710>\u001b[0m in \u001b[0;36m<module>\u001b[0;34m\u001b[0m\n\u001b[1;32m      8\u001b[0m \u001b[0;34m\u001b[0m\u001b[0m\n\u001b[1;32m      9\u001b[0m \u001b[0;34m\u001b[0m\u001b[0m\n\u001b[0;32m---> 10\u001b[0;31m \u001b[0managram\u001b[0m\u001b[0;34m(\u001b[0m\u001b[0;34m)\u001b[0m\u001b[0;34m\u001b[0m\u001b[0;34m\u001b[0m\u001b[0m\n\u001b[0m",
      "\u001b[0;32m<ipython-input-6-4bc35bc34710>\u001b[0m in \u001b[0;36managram\u001b[0;34m()\u001b[0m\n\u001b[1;32m      4\u001b[0m \u001b[0;34m\u001b[0m\u001b[0m\n\u001b[1;32m      5\u001b[0m \u001b[0;32mdef\u001b[0m \u001b[0managram\u001b[0m\u001b[0;34m(\u001b[0m\u001b[0;34m)\u001b[0m\u001b[0;34m:\u001b[0m\u001b[0;34m\u001b[0m\u001b[0;34m\u001b[0m\u001b[0m\n\u001b[0;32m----> 6\u001b[0;31m     \u001b[0msubprocess\u001b[0m\u001b[0;34m.\u001b[0m\u001b[0mcheck_output\u001b[0m\u001b[0;34m(\u001b[0m\u001b[0;34m[\u001b[0m\u001b[0;34mf'gcc -I../../lib/uart anagram.c ../../lib/uart/uart_linux.c -o anagram'\u001b[0m\u001b[0;34m]\u001b[0m\u001b[0;34m,\u001b[0m \u001b[0mshell\u001b[0m\u001b[0;34m=\u001b[0m\u001b[0;32mTrue\u001b[0m\u001b[0;34m)\u001b[0m\u001b[0;34m\u001b[0m\u001b[0;34m\u001b[0m\u001b[0m\n\u001b[0m\u001b[1;32m      7\u001b[0m     \u001b[0mstdout\u001b[0m\u001b[0;34m,\u001b[0m \u001b[0mstdin\u001b[0m \u001b[0;34m=\u001b[0m \u001b[0membsec\u001b[0m\u001b[0;34m.\u001b[0m\u001b[0mgrade_c\u001b[0m\u001b[0;34m(\u001b[0m\u001b[0;34mf'./anagram'\u001b[0m\u001b[0;34m,\u001b[0m \u001b[0;34mf'/embsec/review_c/anagram'\u001b[0m\u001b[0;34m)\u001b[0m\u001b[0;34m\u001b[0m\u001b[0;34m\u001b[0m\u001b[0m\n\u001b[1;32m      8\u001b[0m \u001b[0;34m\u001b[0m\u001b[0m\n",
      "\u001b[0;32m/opt/conda/lib/python3.7/subprocess.py\u001b[0m in \u001b[0;36mcheck_output\u001b[0;34m(timeout, *popenargs, **kwargs)\u001b[0m\n\u001b[1;32m    409\u001b[0m \u001b[0;34m\u001b[0m\u001b[0m\n\u001b[1;32m    410\u001b[0m     return run(*popenargs, stdout=PIPE, timeout=timeout, check=True,\n\u001b[0;32m--> 411\u001b[0;31m                **kwargs).stdout\n\u001b[0m\u001b[1;32m    412\u001b[0m \u001b[0;34m\u001b[0m\u001b[0m\n\u001b[1;32m    413\u001b[0m \u001b[0;34m\u001b[0m\u001b[0m\n",
      "\u001b[0;32m/opt/conda/lib/python3.7/subprocess.py\u001b[0m in \u001b[0;36mrun\u001b[0;34m(input, capture_output, timeout, check, *popenargs, **kwargs)\u001b[0m\n\u001b[1;32m    510\u001b[0m         \u001b[0;32mif\u001b[0m \u001b[0mcheck\u001b[0m \u001b[0;32mand\u001b[0m \u001b[0mretcode\u001b[0m\u001b[0;34m:\u001b[0m\u001b[0;34m\u001b[0m\u001b[0;34m\u001b[0m\u001b[0m\n\u001b[1;32m    511\u001b[0m             raise CalledProcessError(retcode, process.args,\n\u001b[0;32m--> 512\u001b[0;31m                                      output=stdout, stderr=stderr)\n\u001b[0m\u001b[1;32m    513\u001b[0m     \u001b[0;32mreturn\u001b[0m \u001b[0mCompletedProcess\u001b[0m\u001b[0;34m(\u001b[0m\u001b[0mprocess\u001b[0m\u001b[0;34m.\u001b[0m\u001b[0margs\u001b[0m\u001b[0;34m,\u001b[0m \u001b[0mretcode\u001b[0m\u001b[0;34m,\u001b[0m \u001b[0mstdout\u001b[0m\u001b[0;34m,\u001b[0m \u001b[0mstderr\u001b[0m\u001b[0;34m)\u001b[0m\u001b[0;34m\u001b[0m\u001b[0;34m\u001b[0m\u001b[0m\n\u001b[1;32m    514\u001b[0m \u001b[0;34m\u001b[0m\u001b[0m\n",
      "\u001b[0;31mCalledProcessError\u001b[0m: Command '['gcc -I../../lib/uart anagram.c ../../lib/uart/uart_linux.c -o anagram']' returned non-zero exit status 1."
     ]
    }
   ],
   "source": [
    "import embsec\n",
    "import subprocess\n",
    "from core.util import extract_flag\n",
    "\n",
    "def anagram():\n",
    "    subprocess.check_output([f'gcc -I../../lib/uart anagram.c ../../lib/uart/uart_linux.c -o anagram'], shell=True)\n",
    "    stdout, stdin = embsec.grade_c(f'./anagram', f'/embsec/review_c/anagram')\n",
    "    \n",
    "\n",
    "anagram()"
   ]
  },
  {
   "cell_type": "markdown",
   "metadata": {},
   "source": [
    "### Challenge Name: annotate_1 (/embsec/review_c/annotate_1)\n",
    "\n",
    "\n",
    "In this challenge you will simply analyze the following snippit of code.\n",
    "First, add annotations to each line with a '//' describing breifly what that\n",
    "line will do. Also, identify what the values of the variables on line 8 might\n",
    "be when it runs. Finally, draw a memory map of the program that keeps track of\n",
    "global and local variables and where they are stored. \n",
    "\n"
   ]
  },
  {
   "cell_type": "code",
   "execution_count": null,
   "metadata": {},
   "outputs": [],
   "source": [
    "#include <stdio.h>\n",
    "\n",
    "final int MAX_VALUE = 90;                           //\n",
    "\n",
    "void updateValue (int* value_ptr, int modifier) {   //\n",
    "    int newVal = modifier*(*value_ptr);             //\n",
    "    *value_ptr = newVal;                            //\n",
    "\n",
    "    if (*value_ptr > MAX_VALUE) {                   //\n",
    "        printf(\"You win!\\n%p\\n%d\", value_ptr, *value_ptr); //What will this line output?\n",
    "    }\n",
    "}\n",
    "\n",
    "int main() \\{\n",
    "    int score = 1;                              //\n",
    "    \n",
    "    for (int i = 1; i <= 5; i++) {              //\n",
    "        updateValue(&score, i);                 //\n",
    "    }\n",
    "}\n"
   ]
  },
  {
   "cell_type": "markdown",
   "metadata": {},
   "source": [
    "### Challenge Name: annotate_2 (/embsec/review_c/annotate_2)\n",
    "\n",
    "\n",
    "This challenge is very similar to the previous challenge, but is conceptually harder.\n",
    "It is good practice for getting familiar with pointers and other memory related quirks\n",
    "of the C language.\n",
    "\n"
   ]
  },
  {
   "cell_type": "code",
   "execution_count": null,
   "metadata": {},
   "outputs": [],
   "source": [
    "#include <stdio.h>  //\n",
    "\n",
    "int foo (int e) {   //\n",
    "    int i = 2;      //\n",
    "    int* i_p = &i;  //\n",
    "\n",
    "    return 2*(*i_p) + 2*i + e/i; // Draw a memory map of the program here\n",
    "}\n",
    "\n",
    "int bar (int* c, int* d) {\n",
    "    printf(\"%p\", c);  // What will the output of this be?\n",
    "\n",
    "    if (*c > 7) {           //\n",
    "        return foo(*d);     //\n",
    "    }\n",
    "    else {\n",
    "        return (*d + 1);    //\n",
    "    }\n",
    "}\n",
    "\n",
    "int main() {\n",
    "    int a;                  //\n",
    "    int b = 0;              //\n",
    "    int cnt = 0;            //\n",
    "\n",
    "    for (a = 10; (a + b) < 16; a-=1) {   //\n",
    "        b = bar(&a, &b);                 //\n",
    "        cnt++;                           //\n",
    "    }\n",
    "    printf(\"%d\", cnt);    // What will the output of this be?\n",
    "\n",
    "    return 0;\n",
    "}\n"
   ]
  }
 ],
 "metadata": {
  "kernelspec": {
   "display_name": "Python 3",
   "language": "python",
   "name": "python3"
  },
  "language_info": {
   "codemirror_mode": {
    "name": "ipython",
    "version": 3
   },
   "file_extension": ".py",
   "mimetype": "text/x-python",
   "name": "python",
   "nbconvert_exporter": "python",
   "pygments_lexer": "ipython3",
   "version": "3.7.6"
  }
 },
 "nbformat": 4,
 "nbformat_minor": 4
}
