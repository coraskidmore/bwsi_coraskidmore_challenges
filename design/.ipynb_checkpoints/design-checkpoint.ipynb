{
 "cells": [
  {
   "cell_type": "markdown",
   "metadata": {},
   "source": [
    "# Design\n",
    "\n"
   ]
  },
  {
   "cell_type": "markdown",
   "metadata": {},
   "source": [
    "### Challenge Name: fw_protect (/embsec/design/fw_protect)\n",
    "\n",
    "The purpose of this tool will be to secure the firmware. Eventually,\n",
    "you will want to keep the firmware confidential and be able to verify its integrity and authenticity. But for now, \n",
    "you will implement a firmware protect tool that does not add security. This tool should simply:\n",
    "\n",
    "    1. Pack the version \"0\" into a little-endian short\n",
    "    2. Load the firmware binary from firmware.bin\n",
    "    3. Pack the size of the firmware into a little-endian short\n",
    "    4. Append the release message \"First version of firmware.\" to end of firmware (make sure it is null-terminated)\n",
    "    5. Build and send a binary blob in the following format to the grader:\n",
    "    \n",
    "        [ 0x2 ]      [ 0x2 ]      [ variable ]           [ variable ]\n",
    "        -------------------------------------------------------------------------\n",
    "        version | firmware size |   firmware   |   release message + null-byte   \n",
    "\n",
    "\n"
   ]
  },
  {
   "cell_type": "code",
   "execution_count": 11,
   "metadata": {},
   "outputs": [
    {
     "name": "stdout",
     "output_type": "stream",
     "text": [
      "b'\\x00\\x000\\x00'\n"
     ]
    },
    {
     "data": {
      "text/plain": [
       "b'embsec{fw_protect_8b817d278c508735}\\n'"
      ]
     },
     "execution_count": 11,
     "metadata": {},
     "output_type": "execute_result"
    }
   ],
   "source": [
    "from embsec import Serial\n",
    "import struct\n",
    "\n",
    "def fw_protect():\n",
    "    ser = Serial(\"/embsec/design/fw_protect\")\n",
    "    # Your code goes here!\n",
    "    version = (struct.pack('<h',0))\n",
    "    with open('firmware_0.bin','rb') as fw:\n",
    "        firmware=fw.read()\n",
    "    firmsize=len(firmware)\n",
    "    release_mess= \"First version of firmware.\".encode() + b'\\0'\n",
    "    firm_write =firmware+release_mess\n",
    "    update = struct.pack(\"<hh\",0,firmsize)\n",
    "    #struct.pack(f\"<hh{firmsize}s{len(release_mess)}s\",0,firmsize,firmware,release_mess)\n",
    "    ser.write(update)\n",
    "    ser.write(firm_write)\n",
    "    return ser.read_until()\n",
    "fw_protect()\n"
   ]
  },
  {
   "cell_type": "markdown",
   "metadata": {},
   "source": [
    "### Challenge Name: fw_update (/embsec/design/fw_update)\n",
    "\n",
    "For this lesson you will implement a basic update tool for the design challenge.\n",
    "The tool will be used to update the device firmware. You should focus on reading in the firmware blob file, \n",
    "and constructing a set of frames to send to the bootloader. Pay attention to the structure of these \n",
    "frames, as the bootloader is expecting a certain size and format.\n",
    "\n",
    "The bootloader is expecting frames of the following format:\n",
    "\n",
    "      [ 0x2 ]    [ variable ]\n",
    "    ----------------------------\n",
    "    frame size |   data... \n",
    "\n",
    "Process:\n",
    "\n",
    "1. Read in binary blob\n",
    "2. Construct frames from blob\n",
    "3. Send a 'U' for update mode & receive a confirmation 'U'\n",
    "4. Send frames sequentially to boot loader\n",
    "\n"
   ]
  },
  {
   "cell_type": "code",
   "execution_count": null,
   "metadata": {},
   "outputs": [],
   "source": [
    "from embsec import Serial\n",
    "import struct\n",
    "\n",
    "def fw_update():\n",
    "    ser = Serial(\"/embsec/design/fw_update\")\n",
    "    # Your code goes here!\n",
    "    with open('firmware_1.blob','rb') as fwb:\n",
    "        firmwareblob=fwb.read()\n",
    "    ser.write(firmwareblob[0:4])\n",
    "    firmupdate=firmwareblob[4:]\n",
    "    ser.write(b'U')\n",
    "    U=ser.read()\n",
    "    print(U)\n",
    "    while U!=b'U':\n",
    "        U=ser.read()\n",
    "        pass\n",
    "    for i in range(0,len(firmupdate),32):\n",
    "        frame_data = firmupdate[i:i+32]\n",
    "        frame_size=len(frame_data)\n",
    "        frame=struct.pack('>h32s',frame_size,frame_data)\n",
    "        ser.write(frame)\n",
    "        print(frame_data)\n",
    "\n",
    "        ok=ser.read()\n",
    "        print(ok)\n",
    "        while ok!=b'\\0':\n",
    "            ok=ser.read()\n",
    "            pass\n",
    "    ser.write(struct.pack('<h',0))\n",
    "    return ser.read_until()\n",
    "    \n",
    "fw_update()\n"
   ]
  },
  {
   "cell_type": "code",
   "execution_count": null,
   "metadata": {},
   "outputs": [],
   "source": []
  }
 ],
 "metadata": {
  "kernelspec": {
   "display_name": "Python 3",
   "language": "python",
   "name": "python3"
  },
  "language_info": {
   "codemirror_mode": {
    "name": "ipython",
    "version": 3
   },
   "file_extension": ".py",
   "mimetype": "text/x-python",
   "name": "python",
   "nbconvert_exporter": "python",
   "pygments_lexer": "ipython3",
   "version": "3.7.6"
  }
 },
 "nbformat": 4,
 "nbformat_minor": 4
}
