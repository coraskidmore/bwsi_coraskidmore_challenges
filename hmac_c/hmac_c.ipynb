{
 "cells": [
  {
   "cell_type": "markdown",
   "metadata": {},
   "source": [
    "# Hmac c\n",
    "\n"
   ]
  },
  {
   "cell_type": "markdown",
   "metadata": {},
   "source": [
    "### Challenge Name: hmac_generate (/embsec/hmac_c/hmac_generate)\n",
    "\n",
    "\n",
    "        The host tool will send you a variable-length frame of data. The data\n",
    "        frame will begin with a short, little-endian integer size of the data to \n",
    "        follow. You must generate an HMAC-SHA256 signature using the key in \n",
    "        'hmackeyfile0.bin'.\n",
    "    \n",
    "        The data frame you will receive from the device will be formatted as follows:\n",
    "    \n",
    "        [ 0x2   ] [   variable...   ]\n",
    "        ------------------------------\n",
    "        | Size   |     Data          |\n",
    "        ------------------------------\n",
    "    \n",
    "        You must send a 32-byte HMAC-SHA256 signature to the serial device.\n",
    "    \n",
    "        [     0x20     ]\n",
    "        ----------------\n",
    "        |  HMAC(Data)  |\n",
    "        ----------------\n",
    "    \n",
    "        1. Read the HMAC key from 'hmackeyfile0.bin'\n",
    "        2. Read the size of the data from the serial device\n",
    "        3. Read the data from the serial device\n",
    "        4. Generate and send a HMAC-SHA256 over the data\n",
    "        5. Read the response\n",
    "    \n",
    "    \n"
   ]
  },
  {
   "cell_type": "code",
   "execution_count": 3,
   "metadata": {},
   "outputs": [
    {
     "ename": "CalledProcessError",
     "evalue": "Command '['gcc -I../../lib/uart hmac_generate.c ../../lib/uart/uart_linux.c -o hmac_generate']' returned non-zero exit status 1.",
     "output_type": "error",
     "traceback": [
      "\u001b[0;31m---------------------------------------------------------------------------\u001b[0m",
      "\u001b[0;31mCalledProcessError\u001b[0m                        Traceback (most recent call last)",
      "\u001b[0;32m<ipython-input-3-4b1a43baa7fb>\u001b[0m in \u001b[0;36m<module>\u001b[0;34m\u001b[0m\n\u001b[1;32m      9\u001b[0m     \u001b[0;32mreturn\u001b[0m \u001b[0;34m(\u001b[0m\u001b[0mextract_flag\u001b[0m\u001b[0;34m(\u001b[0m\u001b[0mstdin\u001b[0m\u001b[0;34m)\u001b[0m\u001b[0;34m)\u001b[0m\u001b[0;34m\u001b[0m\u001b[0;34m\u001b[0m\u001b[0m\n\u001b[1;32m     10\u001b[0m \u001b[0;34m\u001b[0m\u001b[0m\n\u001b[0;32m---> 11\u001b[0;31m \u001b[0mhmac_generate\u001b[0m\u001b[0;34m(\u001b[0m\u001b[0;34m)\u001b[0m\u001b[0;34m\u001b[0m\u001b[0;34m\u001b[0m\u001b[0m\n\u001b[0m\u001b[1;32m     12\u001b[0m \u001b[0;34m\u001b[0m\u001b[0m\n",
      "\u001b[0;32m<ipython-input-3-4b1a43baa7fb>\u001b[0m in \u001b[0;36mhmac_generate\u001b[0;34m()\u001b[0m\n\u001b[1;32m      4\u001b[0m \u001b[0;34m\u001b[0m\u001b[0m\n\u001b[1;32m      5\u001b[0m \u001b[0;32mdef\u001b[0m \u001b[0mhmac_generate\u001b[0m\u001b[0;34m(\u001b[0m\u001b[0;34m)\u001b[0m\u001b[0;34m:\u001b[0m\u001b[0;34m\u001b[0m\u001b[0;34m\u001b[0m\u001b[0m\n\u001b[0;32m----> 6\u001b[0;31m     \u001b[0msubprocess\u001b[0m\u001b[0;34m.\u001b[0m\u001b[0mcheck_output\u001b[0m\u001b[0;34m(\u001b[0m\u001b[0;34m[\u001b[0m\u001b[0;34mf'gcc -I../../lib/uart hmac_generate.c ../../lib/uart/uart_linux.c -o hmac_generate'\u001b[0m\u001b[0;34m]\u001b[0m\u001b[0;34m,\u001b[0m \u001b[0mshell\u001b[0m\u001b[0;34m=\u001b[0m\u001b[0;32mTrue\u001b[0m\u001b[0;34m)\u001b[0m\u001b[0;34m\u001b[0m\u001b[0;34m\u001b[0m\u001b[0m\n\u001b[0m\u001b[1;32m      7\u001b[0m     \u001b[0mstdout\u001b[0m\u001b[0;34m,\u001b[0m \u001b[0mstdin\u001b[0m \u001b[0;34m=\u001b[0m \u001b[0membsec\u001b[0m\u001b[0;34m.\u001b[0m\u001b[0mgrade_c\u001b[0m\u001b[0;34m(\u001b[0m\u001b[0;34mf'./hmac_generate'\u001b[0m\u001b[0;34m,\u001b[0m \u001b[0;34mf'/embsec/hmac_c/hmac_generate'\u001b[0m\u001b[0;34m)\u001b[0m\u001b[0;34m\u001b[0m\u001b[0;34m\u001b[0m\u001b[0m\n\u001b[1;32m      8\u001b[0m \u001b[0;34m\u001b[0m\u001b[0m\n",
      "\u001b[0;32m/opt/conda/lib/python3.7/subprocess.py\u001b[0m in \u001b[0;36mcheck_output\u001b[0;34m(timeout, *popenargs, **kwargs)\u001b[0m\n\u001b[1;32m    409\u001b[0m \u001b[0;34m\u001b[0m\u001b[0m\n\u001b[1;32m    410\u001b[0m     return run(*popenargs, stdout=PIPE, timeout=timeout, check=True,\n\u001b[0;32m--> 411\u001b[0;31m                **kwargs).stdout\n\u001b[0m\u001b[1;32m    412\u001b[0m \u001b[0;34m\u001b[0m\u001b[0m\n\u001b[1;32m    413\u001b[0m \u001b[0;34m\u001b[0m\u001b[0m\n",
      "\u001b[0;32m/opt/conda/lib/python3.7/subprocess.py\u001b[0m in \u001b[0;36mrun\u001b[0;34m(input, capture_output, timeout, check, *popenargs, **kwargs)\u001b[0m\n\u001b[1;32m    510\u001b[0m         \u001b[0;32mif\u001b[0m \u001b[0mcheck\u001b[0m \u001b[0;32mand\u001b[0m \u001b[0mretcode\u001b[0m\u001b[0;34m:\u001b[0m\u001b[0;34m\u001b[0m\u001b[0;34m\u001b[0m\u001b[0m\n\u001b[1;32m    511\u001b[0m             raise CalledProcessError(retcode, process.args,\n\u001b[0;32m--> 512\u001b[0;31m                                      output=stdout, stderr=stderr)\n\u001b[0m\u001b[1;32m    513\u001b[0m     \u001b[0;32mreturn\u001b[0m \u001b[0mCompletedProcess\u001b[0m\u001b[0;34m(\u001b[0m\u001b[0mprocess\u001b[0m\u001b[0;34m.\u001b[0m\u001b[0margs\u001b[0m\u001b[0;34m,\u001b[0m \u001b[0mretcode\u001b[0m\u001b[0;34m,\u001b[0m \u001b[0mstdout\u001b[0m\u001b[0;34m,\u001b[0m \u001b[0mstderr\u001b[0m\u001b[0;34m)\u001b[0m\u001b[0;34m\u001b[0m\u001b[0;34m\u001b[0m\u001b[0m\n\u001b[1;32m    514\u001b[0m \u001b[0;34m\u001b[0m\u001b[0m\n",
      "\u001b[0;31mCalledProcessError\u001b[0m: Command '['gcc -I../../lib/uart hmac_generate.c ../../lib/uart/uart_linux.c -o hmac_generate']' returned non-zero exit status 1."
     ]
    }
   ],
   "source": [
    "import embsec\n",
    "import subprocess\n",
    "from core.util import extract_flag\n",
    "\n",
    "def hmac_generate():\n",
    "    subprocess.check_output([f'gcc -I../../lib/uart hmac_generate.c ../../lib/uart/uart_linux.c -o hmac_generate'], shell=True)\n",
    "    stdout, stdin = embsec.grade_c(f'./hmac_generate', f'/embsec/hmac_c/hmac_generate')\n",
    "    \n",
    "    return (extract_flag(stdout))\n",
    "    \n",
    "hmac_generate()\n",
    "\n"
   ]
  },
  {
   "cell_type": "markdown",
   "metadata": {},
   "source": [
    "### Challenge Name: hmac_verify (/embsec/hmac_c/hmac_verify)\n",
    "\n",
    "\n",
    "        The host tool will send you a series of messages in the format\n",
    "        described below. For each message you must check the attached signature \n",
    "        If verification fails, you must respond with a zero-byte '\\x00'. If \n",
    "        verification passes, you must respond with a one-byte '\\x01'. When the\n",
    "        length of the message you are about to receive is zero , read a newline-\n",
    "        terminated flag.\n",
    "    \n",
    "        The serial device will send signed messages in the following format:\n",
    "    \n",
    "        ------------------------------------------\n",
    "        [ 0x2 ] [   variable...    ] [    0x20   ]\n",
    "        ------------------------------------------\n",
    "        | Size   |     Data         | HMAC(Data) |\n",
    "        ------------------------------------------\n",
    "    \n"
   ]
  },
  {
   "cell_type": "code",
   "execution_count": null,
   "metadata": {},
   "outputs": [],
   "source": [
    "import embsec\n",
    "import subprocess\n",
    "from core.util import extract_flag\n",
    "\n",
    "def hmac_verify():\n",
    "    subprocess.check_output([f'gcc -I../../lib/uart hmac_verify.c ../../lib/uart/uart_linux.c -o hmac_verify'], shell=True)\n",
    "    stdout, stdin = embsec.grade_c(f'./hmac_verify', f'/embsec/hmac_c/hmac_verify')\n",
    "    \n",
    "    return (extract_flag(stdout))\n",
    "    \n",
    "hmac_verify()\n",
    "\n"
   ]
  }
 ],
 "metadata": {
  "kernelspec": {
   "display_name": "Python 3",
   "language": "python",
   "name": "python3"
  },
  "language_info": {
   "codemirror_mode": {
    "name": "ipython",
    "version": 3
   },
   "file_extension": ".py",
   "mimetype": "text/x-python",
   "name": "python",
   "nbconvert_exporter": "python",
   "pygments_lexer": "ipython3",
   "version": "3.7.6"
  }
 },
 "nbformat": 4,
 "nbformat_minor": 4
}
